{
 "cells": [
  {
   "cell_type": "code",
   "execution_count": 1,
   "metadata": {},
   "outputs": [],
   "source": [
    "import pandas as pd\n",
    "import openpyxl\n",
    "from openpyxl import load_workbook\n",
    "from openpyxl.styles import Alignment, Color, Fill\n",
    "from openpyxl.cell import Cell\n",
    "from openpyxl.styles import PatternFill\n",
    "from openpyxl.styles.borders import Border, Side\n",
    "from openpyxl.utils.dataframe import dataframe_to_rows\n",
    "\n",
    "import sys\n",
    "import os\n",
    "\n",
    "import xlsxwriter\n",
    "from win32com.client import Dispatch"
   ]
  },
  {
   "cell_type": "code",
   "execution_count": 2,
   "metadata": {},
   "outputs": [],
   "source": [
    "def set_border(ws, cell_range):\n",
    "#     rows = ws.range(cell_range)\n",
    "    thin_border = Border(left=Side(style='medium'), \n",
    "                     right=Side(style='medium'), \n",
    "                     top=Side(style='medium'), \n",
    "                     bottom=Side(style='medium'))\n",
    "    \n",
    "    for rows in ws[cell_range]:\n",
    "        for cell in rows:\n",
    "            cell.border = thin_border\n",
    "#             row[0].style.borders.left.border_style = Border.\n",
    "#             row[-1].style.borders.right.border_style = Border.BORDER_MEDIUM\n",
    "#         for c in rows[0]:\n",
    "#             c.style.borders.top.border_style = Border.BORDER_MEDIUM\n",
    "#         for c in rows[-1]:\n",
    "#             c.style.borders.bottom.border_style = Border.BORDER_MEDIUM"
   ]
  },
  {
   "cell_type": "code",
   "execution_count": 3,
   "metadata": {},
   "outputs": [],
   "source": [
    "def colorCell(row, column, value):\n",
    "    cell = sheet.cell(row=row, column=column)\n",
    "    if(value != None):\n",
    "        cell.value = value#depotHeaderName+\" Depot Route List\"\n",
    "    cell.alignment = Alignment(horizontal='center', vertical='center')\n",
    "    cell.fill = PatternFill(fgColor='FFEE08', fill_type = 'solid')\n",
    "    \n",
    "    thin_border = Border(left=Side(style='medium'), \n",
    "                     right=Side(style='medium'), \n",
    "                     top=Side(style='medium'), \n",
    "                     bottom=Side(style='medium'))\n",
    "    \n",
    "    cell.border = thin_border\n"
   ]
  },
  {
   "cell_type": "code",
   "execution_count": 4,
   "metadata": {},
   "outputs": [
    {
     "name": "stdout",
     "output_type": "stream",
     "text": [
      "Enter the path of excel file: C:\\Users\\KA056708\\Documents\\Personal\\Dad\\MasterToSrcDes\\Master Depot.xlsx\n",
      "Which depot do you want to process? Wadala\n"
     ]
    }
   ],
   "source": [
    "user_input_path = input(\"Enter the path of excel file: \")\n",
    "# assert os.path.exists(user_input), \"I did not find the file at, \"+str(user_input)\n",
    "\n",
    "user_input_depot = input(\"Which depot do you want to process?(case sensitive): \")\n",
    "\n",
    "# depotHeaderName = user_input_path.split('\\\\')[-1].split('.')[0].split(' ')[0]\n",
    "depotHeaderName = user_input_depot\n",
    "# print(depotHeaderName)\n",
    "\n"
   ]
  },
  {
   "cell_type": "code",
   "execution_count": 5,
   "metadata": {},
   "outputs": [],
   "source": [
    "#Store the output file path in a variable\n",
    "output_file = os.getcwd()+\"\\\\\"+depotHeaderName+\" output.xlsx\""
   ]
  },
  {
   "cell_type": "code",
   "execution_count": 6,
   "metadata": {},
   "outputs": [],
   "source": [
    "#Read the excel data into dataframe\n",
    "\n",
    "df_main = pd.read_excel(user_input_path)"
   ]
  },
  {
   "cell_type": "code",
   "execution_count": 7,
   "metadata": {},
   "outputs": [],
   "source": [
    "df_depot_specific_full = df_main.loc[(df_main['Depot'] == user_input_depot)]"
   ]
  },
  {
   "cell_type": "code",
   "execution_count": 8,
   "metadata": {},
   "outputs": [],
   "source": [
    "#Retain only the required columns in the dataframe\n",
    "# df_main_copy = df_main.copy()\n",
    "df_depot_specific = df_depot_specific_full[['Route Name', 'Stop Serial', 'English Stop Name', 'Marathi Stop Name']].copy()"
   ]
  },
  {
   "cell_type": "code",
   "execution_count": 9,
   "metadata": {},
   "outputs": [],
   "source": [
    "#Extract the Route Names to a List of unique values\n",
    "\n",
    "routeList = df_depot_specific['Route Name'].unique().tolist()"
   ]
  },
  {
   "cell_type": "code",
   "execution_count": 10,
   "metadata": {},
   "outputs": [],
   "source": [
    "#Extract data for first and last stops into two dataframes respectivly.\n",
    "\n",
    "writeRow = 1\n",
    "result = pd.DataFrame()\n",
    "df_FirstStop = pd.DataFrame()\n",
    "df_LastStop = pd.DataFrame()\n",
    "for x in routeList:\n",
    "    df_FirstStop = df_FirstStop.append(df_depot_specific.loc[ (df_depot_specific['Stop Serial'] == 1) & (df_depot_specific['Route Name'] == x) ], sort=False)\n",
    "\n",
    "    count = int((df_depot_specific.loc[(df_depot_specific['Route Name'] == x)]).groupby('Route Name').size())\n",
    "    df_LastStop = df_LastStop.append(df_depot_specific.loc[ (df_depot_specific['Stop Serial'] == count) & (df_depot_specific['Route Name'] == x) ], sort=False)\n",
    "    \n",
    "    \n",
    "del df_FirstStop['Stop Serial']\n",
    "del df_LastStop['Stop Serial']\n",
    "# print(tdff2)\n",
    "# result.merge(tdff1,tdff2,on='Route Name',ignore_index=True)\n",
    "\n"
   ]
  },
  {
   "cell_type": "code",
   "execution_count": 11,
   "metadata": {},
   "outputs": [],
   "source": [
    "#Merge the two dataframes into one dataframe\n",
    "\n",
    "result = pd.merge(df_FirstStop,df_LastStop, on = \"Route Name\")"
   ]
  },
  {
   "cell_type": "code",
   "execution_count": 12,
   "metadata": {},
   "outputs": [],
   "source": [
    "#Write dataframe to excel\n",
    "\n",
    "result.to_excel(output_file,index=False,header=False,startcol=0,startrow=3, sheet_name=\"FromToData\")\n",
    "\n",
    "# df_depot_specific_full.to_excel(output_file,index=False,header=True,startcol=0,startrow=0, sheet_name=\"Org Data\")"
   ]
  },
  {
   "cell_type": "code",
   "execution_count": 13,
   "metadata": {},
   "outputs": [],
   "source": [
    "#Make all columns in the output excel to AutoFit to the data.\n",
    "\n",
    "excel = Dispatch('Excel.Application')\n",
    "wb = excel.Workbooks.Open(output_file)\n",
    "\n",
    "#Activate first sheet\n",
    "excel.Worksheets(1).Activate()\n",
    "\n",
    "#Autofit column in active sheet\n",
    "excel.ActiveSheet.Columns.AutoFit()\n",
    "\n",
    "#Save changes in a new file\n",
    "#wb.SaveAs(\"D:\\\\output_fit.xlsx\")\n",
    "\n",
    "#Or simply save changes in a current file\n",
    "wb.Save()\n",
    "\n",
    "wb.Close()"
   ]
  },
  {
   "cell_type": "code",
   "execution_count": 14,
   "metadata": {},
   "outputs": [],
   "source": [
    "#Adding the headers here\n",
    "\n",
    "\n",
    "# To open the workbook  \n",
    "# workbook object is created \n",
    "book = load_workbook(output_file)\n",
    "\n",
    "# Get workbook active sheet object \n",
    "# from the active attribute \n",
    "sheet = book.active\n",
    "\n",
    "# sheet.merge_cells('A1:E1')\n",
    "sheet.merge_cells(start_row=1,start_column=1,end_row=1,end_column=5)   #... Depot Route List\n",
    "sheet.merge_cells(start_row=2,start_column=1,end_row=3,end_column=1)   #Route Name\n",
    "sheet.merge_cells(start_row=2,start_column=2,end_row=2,end_column=3)   #From\n",
    "sheet.merge_cells(start_row=2,start_column=4,end_row=2,end_column=5)   #To\n",
    "\n",
    "\n",
    "colorCell(1, 1, depotHeaderName+\" Depot Route List\")\n",
    "colorCell(2, 1, 'Route Name')\n",
    "colorCell(2, 2, 'From')\n",
    "colorCell(2, 4, 'To')\n",
    "colorCell(3, 2, 'English')\n",
    "colorCell(3, 3, 'Marathi')\n",
    "colorCell(3, 4, 'English')\n",
    "colorCell(3, 5, 'Marathi')\n",
    "\n",
    "set_border(sheet,\"A1:E3\")\n",
    "# cell = sheet.cell(row=3,column=5)\n",
    "# # cell.border = thin_border\n",
    "# cell .value = 'Marathi'\n",
    "# cell.alignment = Alignment(horizontal='center', vertical='center')\n",
    "# cell.fill = PatternFill(fgColor='FFEE08', fill_type = 'solid')\n",
    "\n",
    "#Create new sheet and write the complete data for the requested depot\n",
    "book.save(output_file)\n"
   ]
  },
  {
   "cell_type": "code",
   "execution_count": 15,
   "metadata": {},
   "outputs": [],
   "source": [
    "book.create_sheet(\"Org Data\")\n",
    "sheet = book[\"Org Data\"]\n",
    "\n",
    "for r in dataframe_to_rows(df_depot_specific_full, index=True, header=True):\n",
    "    sheet.append(r)\n",
    "\n",
    "i=1\n",
    "for x in sheet.columns:\n",
    "    colorCell(1, i, None)\n",
    "    i=i+1\n",
    "book.save(output_file)"
   ]
  },
  {
   "cell_type": "code",
   "execution_count": 16,
   "metadata": {},
   "outputs": [],
   "source": [
    "#Make all columns in the output excel to AutoFit to the data.\n",
    "\n",
    "excel = Dispatch('Excel.Application')\n",
    "wb = excel.Workbooks.Open(output_file)\n",
    "\n",
    "#Activate second sheet\n",
    "excel.Worksheets(2).Activate()\n",
    "\n",
    "#Autofit column in active sheet\n",
    "excel.ActiveSheet.Columns.AutoFit()\n",
    "\n",
    "#Save changes in a new file\n",
    "#wb.SaveAs(\"D:\\\\output_fit.xlsx\")\n",
    "\n",
    "#Or simply save changes in a current file\n",
    "wb.Save()\n",
    "\n",
    "wb.Close()"
   ]
  }
 ],
 "metadata": {
  "kernelspec": {
   "display_name": "Python 3",
   "language": "python",
   "name": "python3"
  },
  "language_info": {
   "codemirror_mode": {
    "name": "ipython",
    "version": 3
   },
   "file_extension": ".py",
   "mimetype": "text/x-python",
   "name": "python",
   "nbconvert_exporter": "python",
   "pygments_lexer": "ipython3",
   "version": "3.6.5"
  }
 },
 "nbformat": 4,
 "nbformat_minor": 2
}
